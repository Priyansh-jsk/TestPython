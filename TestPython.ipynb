{
  "nbformat": 4,
  "nbformat_minor": 0,
  "metadata": {
    "colab": {
      "name": "TestPython.ipynb",
      "provenance": [],
      "collapsed_sections": [],
      "authorship_tag": "ABX9TyPOdhAhVqlVcrn2kFKGGZDN",
      "include_colab_link": true
    },
    "kernelspec": {
      "name": "python3",
      "display_name": "Python 3"
    }
  },
  "cells": [
    {
      "cell_type": "markdown",
      "metadata": {
        "id": "view-in-github",
        "colab_type": "text"
      },
      "source": [
        "<a href=\"https://colab.research.google.com/github/Priyansh-jsk/TestPython/blob/main/TestPython.ipynb\" target=\"_parent\"><img src=\"https://colab.research.google.com/assets/colab-badge.svg\" alt=\"Open In Colab\"/></a>"
      ]
    },
    {
      "cell_type": "code",
      "metadata": {
        "id": "hohzPH2COaaM"
      },
      "source": [
        "import pandas as pd \r\n",
        "# Read data from file 'filename.csv' \r\n",
        "df = pd.read_csv(\"Insta.csv\")"
      ],
      "execution_count": 11,
      "outputs": []
    },
    {
      "cell_type": "code",
      "metadata": {
        "id": "A1-utSuHSw3j",
        "colab": {
          "base_uri": "https://localhost:8080/"
        },
        "outputId": "17569412-aff9-427c-e4a7-59ba0623a5cd"
      },
      "source": [
        "#1\r\n",
        "df.shape"
      ],
      "execution_count": 12,
      "outputs": [
        {
          "output_type": "execute_result",
          "data": {
            "text/plain": [
              "(100, 9)"
            ]
          },
          "metadata": {
            "tags": []
          },
          "execution_count": 12
        }
      ]
    },
    {
      "cell_type": "code",
      "metadata": {
        "id": "5YUKl9_rS3bc",
        "colab": {
          "base_uri": "https://localhost:8080/"
        },
        "outputId": "ed56e23e-3fd9-42ce-9fbf-e0c2c37e6df1"
      },
      "source": [
        "#2\r\n",
        "df.info"
      ],
      "execution_count": 13,
      "outputs": [
        {
          "output_type": "execute_result",
          "data": {
            "text/plain": [
              "<bound method DataFrame.info of     Unnamed: 0  Unnamed: 0.1  ...  Time since posted Likes\n",
              "0            0             0  ...           11 hours   139\n",
              "1            1             1  ...            2 hours    23\n",
              "2            2             2  ...            2 hours    25\n",
              "3            3             3  ...            3 hours    49\n",
              "4            4             4  ...            3 hours    30\n",
              "..         ...           ...  ...                ...   ...\n",
              "95          95             8  ...            3 hours    31\n",
              "96          96             9  ...            3 hours    42\n",
              "97          97            10  ...            3 hours    10\n",
              "98          98            11  ...            3 hours   222\n",
              "99          99            12  ...            3 hours   109\n",
              "\n",
              "[100 rows x 9 columns]>"
            ]
          },
          "metadata": {
            "tags": []
          },
          "execution_count": 13
        }
      ]
    },
    {
      "cell_type": "code",
      "metadata": {
        "id": "JnGmmslAS7yT"
      },
      "source": [
        "#3"
      ],
      "execution_count": null,
      "outputs": []
    },
    {
      "cell_type": "code",
      "metadata": {
        "id": "w3HgUj4RSMKk",
        "colab": {
          "base_uri": "https://localhost:8080/",
          "height": 359
        },
        "outputId": "655a8228-ede6-4c8b-a40d-7fc784a473f1"
      },
      "source": [
        "#4\r\n",
        "# Preview and last 10 lines of the loaded dataframe \r\n",
        "df.head(10)"
      ],
      "execution_count": 15,
      "outputs": [
        {
          "output_type": "execute_result",
          "data": {
            "text/html": [
              "<div>\n",
              "<style scoped>\n",
              "    .dataframe tbody tr th:only-of-type {\n",
              "        vertical-align: middle;\n",
              "    }\n",
              "\n",
              "    .dataframe tbody tr th {\n",
              "        vertical-align: top;\n",
              "    }\n",
              "\n",
              "    .dataframe thead th {\n",
              "        text-align: right;\n",
              "    }\n",
              "</style>\n",
              "<table border=\"1\" class=\"dataframe\">\n",
              "  <thead>\n",
              "    <tr style=\"text-align: right;\">\n",
              "      <th></th>\n",
              "      <th>Unnamed: 0</th>\n",
              "      <th>Unnamed: 0.1</th>\n",
              "      <th>S.No</th>\n",
              "      <th>USERNAME</th>\n",
              "      <th>Caption</th>\n",
              "      <th>Followers</th>\n",
              "      <th>Hashtags</th>\n",
              "      <th>Time since posted</th>\n",
              "      <th>Likes</th>\n",
              "    </tr>\n",
              "  </thead>\n",
              "  <tbody>\n",
              "    <tr>\n",
              "      <th>0</th>\n",
              "      <td>0</td>\n",
              "      <td>0</td>\n",
              "      <td>1</td>\n",
              "      <td>mikequindazzi</td>\n",
              "      <td>Who are #DataScientist and what do they do? &gt;&gt;...</td>\n",
              "      <td>1600</td>\n",
              "      <td>#MachineLearning #AI #DataAnalytics #DataScien...</td>\n",
              "      <td>11 hours</td>\n",
              "      <td>139</td>\n",
              "    </tr>\n",
              "    <tr>\n",
              "      <th>1</th>\n",
              "      <td>1</td>\n",
              "      <td>1</td>\n",
              "      <td>2</td>\n",
              "      <td>drgorillapaints</td>\n",
              "      <td>We all know where it’s going. We just have to ...</td>\n",
              "      <td>880</td>\n",
              "      <td>#deck .#mac #macintosh#sayhello #apple #steve...</td>\n",
              "      <td>2 hours</td>\n",
              "      <td>23</td>\n",
              "    </tr>\n",
              "    <tr>\n",
              "      <th>2</th>\n",
              "      <td>2</td>\n",
              "      <td>2</td>\n",
              "      <td>3</td>\n",
              "      <td>aitrading_official</td>\n",
              "      <td>Alexander Barinov: 4 years as CFO in multinati...</td>\n",
              "      <td>255</td>\n",
              "      <td>#whoiswho #aitrading #ai #aitradingteam#instat...</td>\n",
              "      <td>2 hours</td>\n",
              "      <td>25</td>\n",
              "    </tr>\n",
              "    <tr>\n",
              "      <th>3</th>\n",
              "      <td>3</td>\n",
              "      <td>3</td>\n",
              "      <td>4</td>\n",
              "      <td>opensourcedworkplace</td>\n",
              "      <td>sfad</td>\n",
              "      <td>340</td>\n",
              "      <td>#iot #cre#workplace #CDO #bigdata #technology#...</td>\n",
              "      <td>3 hours</td>\n",
              "      <td>49</td>\n",
              "    </tr>\n",
              "    <tr>\n",
              "      <th>4</th>\n",
              "      <td>4</td>\n",
              "      <td>4</td>\n",
              "      <td>5</td>\n",
              "      <td>crea.vision</td>\n",
              "      <td>Ever missed a call while your phone was chargi...</td>\n",
              "      <td>304</td>\n",
              "      <td>#instamachinelearning #instabigdata#instamarke...</td>\n",
              "      <td>3 hours</td>\n",
              "      <td>30</td>\n",
              "    </tr>\n",
              "    <tr>\n",
              "      <th>5</th>\n",
              "      <td>5</td>\n",
              "      <td>5</td>\n",
              "      <td>6</td>\n",
              "      <td>be.masterly</td>\n",
              "      <td>Cyber attacks are more frequent every day and ...</td>\n",
              "      <td>1231</td>\n",
              "      <td>#edtech #learning#educationtechnology #tech #l...</td>\n",
              "      <td>3 hours</td>\n",
              "      <td>18</td>\n",
              "    </tr>\n",
              "    <tr>\n",
              "      <th>6</th>\n",
              "      <td>6</td>\n",
              "      <td>6</td>\n",
              "      <td>7</td>\n",
              "      <td>lenovoworkstations</td>\n",
              "      <td>Check it out – we’re walking across the 🌎’s fi...</td>\n",
              "      <td>259</td>\n",
              "      <td>.#Tech #virtualreality #IoT #Machinelearning</td>\n",
              "      <td>3 hours</td>\n",
              "      <td>35</td>\n",
              "    </tr>\n",
              "    <tr>\n",
              "      <th>7</th>\n",
              "      <td>7</td>\n",
              "      <td>7</td>\n",
              "      <td>8</td>\n",
              "      <td>kirellb</td>\n",
              "      <td>Here's a network I made that depicts the scien...</td>\n",
              "      <td>1433</td>\n",
              "      <td>#datascientist #creativetechnology#design #art...</td>\n",
              "      <td>4 hours</td>\n",
              "      <td>86</td>\n",
              "    </tr>\n",
              "    <tr>\n",
              "      <th>8</th>\n",
              "      <td>8</td>\n",
              "      <td>8</td>\n",
              "      <td>9</td>\n",
              "      <td>ethicsandai</td>\n",
              "      <td>Having a great week at @ldntechweek exploring ...</td>\n",
              "      <td>13</td>\n",
              "      <td>#LTW #London #TechXLR8 #Technology#AI #Artific...</td>\n",
              "      <td>4 hours</td>\n",
              "      <td>22</td>\n",
              "    </tr>\n",
              "    <tr>\n",
              "      <th>9</th>\n",
              "      <td>9</td>\n",
              "      <td>9</td>\n",
              "      <td>10</td>\n",
              "      <td>diworksolucionesdeti</td>\n",
              "      <td>The Internet of Things : A Very Short Story [#...</td>\n",
              "      <td>450</td>\n",
              "      <td>[#Infographic] #Wearable #Sensors #MachineLear...</td>\n",
              "      <td>7 hours</td>\n",
              "      <td>18</td>\n",
              "    </tr>\n",
              "  </tbody>\n",
              "</table>\n",
              "</div>"
            ],
            "text/plain": [
              "   Unnamed: 0  Unnamed: 0.1  ...  Time since posted Likes\n",
              "0           0             0  ...           11 hours   139\n",
              "1           1             1  ...            2 hours    23\n",
              "2           2             2  ...            2 hours    25\n",
              "3           3             3  ...            3 hours    49\n",
              "4           4             4  ...            3 hours    30\n",
              "5           5             5  ...            3 hours    18\n",
              "6           6             6  ...            3 hours    35\n",
              "7           7             7  ...            4 hours    86\n",
              "8           8             8  ...            4 hours    22\n",
              "9           9             9  ...            7 hours    18\n",
              "\n",
              "[10 rows x 9 columns]"
            ]
          },
          "metadata": {
            "tags": []
          },
          "execution_count": 15
        }
      ]
    },
    {
      "cell_type": "code",
      "metadata": {
        "id": "4D0K8W0qSmi5",
        "colab": {
          "base_uri": "https://localhost:8080/",
          "height": 359
        },
        "outputId": "fbc91fef-e226-46f5-a1ef-451e578a0b75"
      },
      "source": [
        "#4\r\n",
        "df.tail(10)"
      ],
      "execution_count": 16,
      "outputs": [
        {
          "output_type": "execute_result",
          "data": {
            "text/html": [
              "<div>\n",
              "<style scoped>\n",
              "    .dataframe tbody tr th:only-of-type {\n",
              "        vertical-align: middle;\n",
              "    }\n",
              "\n",
              "    .dataframe tbody tr th {\n",
              "        vertical-align: top;\n",
              "    }\n",
              "\n",
              "    .dataframe thead th {\n",
              "        text-align: right;\n",
              "    }\n",
              "</style>\n",
              "<table border=\"1\" class=\"dataframe\">\n",
              "  <thead>\n",
              "    <tr style=\"text-align: right;\">\n",
              "      <th></th>\n",
              "      <th>Unnamed: 0</th>\n",
              "      <th>Unnamed: 0.1</th>\n",
              "      <th>S.No</th>\n",
              "      <th>USERNAME</th>\n",
              "      <th>Caption</th>\n",
              "      <th>Followers</th>\n",
              "      <th>Hashtags</th>\n",
              "      <th>Time since posted</th>\n",
              "      <th>Likes</th>\n",
              "    </tr>\n",
              "  </thead>\n",
              "  <tbody>\n",
              "    <tr>\n",
              "      <th>90</th>\n",
              "      <td>90</td>\n",
              "      <td>3</td>\n",
              "      <td>13</td>\n",
              "      <td>the_ios_developer</td>\n",
              "      <td>4K Ai</td>\n",
              "      <td>863</td>\n",
              "      <td>#developer #coding #programmer #javascript #pr...</td>\n",
              "      <td>2 hours</td>\n",
              "      <td>32</td>\n",
              "    </tr>\n",
              "    <tr>\n",
              "      <th>91</th>\n",
              "      <td>91</td>\n",
              "      <td>4</td>\n",
              "      <td>14</td>\n",
              "      <td>swiatik</td>\n",
              "      <td>Last week was pretty busy, so I had no chance ...</td>\n",
              "      <td>971</td>\n",
              "      <td>#design #instaphoto #inspiration#premierpro #o...</td>\n",
              "      <td>2 hours</td>\n",
              "      <td>46</td>\n",
              "    </tr>\n",
              "    <tr>\n",
              "      <th>92</th>\n",
              "      <td>92</td>\n",
              "      <td>5</td>\n",
              "      <td>15</td>\n",
              "      <td>caseyjmcclure</td>\n",
              "      <td>Picked up this roubo bookstand from my buddy o...</td>\n",
              "      <td>106</td>\n",
              "      <td>#cybersecurity #programmer #development#nerd #...</td>\n",
              "      <td>2 hours</td>\n",
              "      <td>12</td>\n",
              "    </tr>\n",
              "    <tr>\n",
              "      <th>93</th>\n",
              "      <td>93</td>\n",
              "      <td>6</td>\n",
              "      <td>17</td>\n",
              "      <td>benasdzimidas</td>\n",
              "      <td>60% off Lux Light until Monday! Get your copy ...</td>\n",
              "      <td>179</td>\n",
              "      <td>#android #design #development#benasdzimidas #g...</td>\n",
              "      <td>2 hours</td>\n",
              "      <td>20</td>\n",
              "    </tr>\n",
              "    <tr>\n",
              "      <th>94</th>\n",
              "      <td>94</td>\n",
              "      <td>7</td>\n",
              "      <td>18</td>\n",
              "      <td>praveen_rangasubhe</td>\n",
              "      <td>😂😂</td>\n",
              "      <td>49</td>\n",
              "      <td>#html #html5 #webdeveloper#websitedesign #html...</td>\n",
              "      <td>3 hours</td>\n",
              "      <td>24</td>\n",
              "    </tr>\n",
              "    <tr>\n",
              "      <th>95</th>\n",
              "      <td>95</td>\n",
              "      <td>8</td>\n",
              "      <td>19</td>\n",
              "      <td>michaelgarza__</td>\n",
              "      <td>328 S. Wetherly Drive, Beverly Hills, CA 90212...</td>\n",
              "      <td>614</td>\n",
              "      <td>#beverlyhills #realestate#losangelesrealestate...</td>\n",
              "      <td>3 hours</td>\n",
              "      <td>31</td>\n",
              "    </tr>\n",
              "    <tr>\n",
              "      <th>96</th>\n",
              "      <td>96</td>\n",
              "      <td>9</td>\n",
              "      <td>21</td>\n",
              "      <td>dvlp_search</td>\n",
              "      <td>Credit @tristankappel To find more dvlp follow...</td>\n",
              "      <td>450</td>\n",
              "      <td>#workspace #work #developer#development #devel...</td>\n",
              "      <td>3 hours</td>\n",
              "      <td>42</td>\n",
              "    </tr>\n",
              "    <tr>\n",
              "      <th>97</th>\n",
              "      <td>97</td>\n",
              "      <td>10</td>\n",
              "      <td>22</td>\n",
              "      <td>ecom.space</td>\n",
              "      <td>We are coming up with the Best 21 Books that w...</td>\n",
              "      <td>182</td>\n",
              "      <td>#books #book #motivation #inspiration #life#bo...</td>\n",
              "      <td>3 hours</td>\n",
              "      <td>10</td>\n",
              "    </tr>\n",
              "    <tr>\n",
              "      <th>98</th>\n",
              "      <td>98</td>\n",
              "      <td>11</td>\n",
              "      <td>24</td>\n",
              "      <td>lb3enterprises</td>\n",
              "      <td>We’re only paid to move dirt once. It’s not ju...</td>\n",
              "      <td>2039</td>\n",
              "      <td>#heavyequipment #underconstruction#dozer #real...</td>\n",
              "      <td>3 hours</td>\n",
              "      <td>222</td>\n",
              "    </tr>\n",
              "    <tr>\n",
              "      <th>99</th>\n",
              "      <td>99</td>\n",
              "      <td>12</td>\n",
              "      <td>25</td>\n",
              "      <td>palmariusdev</td>\n",
              "      <td>Obtén tu tienda en línea ahora.</td>\n",
              "      <td>741</td>\n",
              "      <td>#marketing #programming#development #desarroll...</td>\n",
              "      <td>3 hours</td>\n",
              "      <td>109</td>\n",
              "    </tr>\n",
              "  </tbody>\n",
              "</table>\n",
              "</div>"
            ],
            "text/plain": [
              "    Unnamed: 0  Unnamed: 0.1  ...  Time since posted Likes\n",
              "90          90             3  ...            2 hours    32\n",
              "91          91             4  ...            2 hours    46\n",
              "92          92             5  ...            2 hours    12\n",
              "93          93             6  ...            2 hours    20\n",
              "94          94             7  ...            3 hours    24\n",
              "95          95             8  ...            3 hours    31\n",
              "96          96             9  ...            3 hours    42\n",
              "97          97            10  ...            3 hours    10\n",
              "98          98            11  ...            3 hours   222\n",
              "99          99            12  ...            3 hours   109\n",
              "\n",
              "[10 rows x 9 columns]"
            ]
          },
          "metadata": {
            "tags": []
          },
          "execution_count": 16
        }
      ]
    },
    {
      "cell_type": "code",
      "metadata": {
        "colab": {
          "base_uri": "https://localhost:8080/",
          "height": 173
        },
        "id": "1-8lN4mRuGUj",
        "outputId": "61270a8a-4dac-4f37-8b90-84e8afa9cf90"
      },
      "source": [
        "#13\r\n",
        "df[:4]"
      ],
      "execution_count": 39,
      "outputs": [
        {
          "output_type": "execute_result",
          "data": {
            "text/html": [
              "<div>\n",
              "<style scoped>\n",
              "    .dataframe tbody tr th:only-of-type {\n",
              "        vertical-align: middle;\n",
              "    }\n",
              "\n",
              "    .dataframe tbody tr th {\n",
              "        vertical-align: top;\n",
              "    }\n",
              "\n",
              "    .dataframe thead th {\n",
              "        text-align: right;\n",
              "    }\n",
              "</style>\n",
              "<table border=\"1\" class=\"dataframe\">\n",
              "  <thead>\n",
              "    <tr style=\"text-align: right;\">\n",
              "      <th></th>\n",
              "      <th>n</th>\n",
              "      <th>n2</th>\n",
              "    </tr>\n",
              "  </thead>\n",
              "  <tbody>\n",
              "    <tr>\n",
              "      <th>0</th>\n",
              "      <td>1</td>\n",
              "      <td>6</td>\n",
              "    </tr>\n",
              "    <tr>\n",
              "      <th>1</th>\n",
              "      <td>2</td>\n",
              "      <td>7</td>\n",
              "    </tr>\n",
              "    <tr>\n",
              "      <th>2</th>\n",
              "      <td>3</td>\n",
              "      <td>8</td>\n",
              "    </tr>\n",
              "    <tr>\n",
              "      <th>3</th>\n",
              "      <td>4</td>\n",
              "      <td>9</td>\n",
              "    </tr>\n",
              "  </tbody>\n",
              "</table>\n",
              "</div>"
            ],
            "text/plain": [
              "   n  n2\n",
              "0  1   6\n",
              "1  2   7\n",
              "2  3   8\n",
              "3  4   9"
            ]
          },
          "metadata": {
            "tags": []
          },
          "execution_count": 39
        }
      ]
    },
    {
      "cell_type": "code",
      "metadata": {
        "colab": {
          "base_uri": "https://localhost:8080/",
          "height": 204
        },
        "id": "3bcnvOZIuJGJ",
        "outputId": "3787eb21-3865-4f9e-d371-22082b70b5c8"
      },
      "source": [
        "# this will replace \"Boston Celtics\" with \"Omega Warrior\" \r\n",
        "df.replace(to_replace =3, \r\n",
        "                 value =\"Swarnika\")"
      ],
      "execution_count": 40,
      "outputs": [
        {
          "output_type": "execute_result",
          "data": {
            "text/html": [
              "<div>\n",
              "<style scoped>\n",
              "    .dataframe tbody tr th:only-of-type {\n",
              "        vertical-align: middle;\n",
              "    }\n",
              "\n",
              "    .dataframe tbody tr th {\n",
              "        vertical-align: top;\n",
              "    }\n",
              "\n",
              "    .dataframe thead th {\n",
              "        text-align: right;\n",
              "    }\n",
              "</style>\n",
              "<table border=\"1\" class=\"dataframe\">\n",
              "  <thead>\n",
              "    <tr style=\"text-align: right;\">\n",
              "      <th></th>\n",
              "      <th>n</th>\n",
              "      <th>n2</th>\n",
              "    </tr>\n",
              "  </thead>\n",
              "  <tbody>\n",
              "    <tr>\n",
              "      <th>0</th>\n",
              "      <td>1</td>\n",
              "      <td>6</td>\n",
              "    </tr>\n",
              "    <tr>\n",
              "      <th>1</th>\n",
              "      <td>2</td>\n",
              "      <td>7</td>\n",
              "    </tr>\n",
              "    <tr>\n",
              "      <th>2</th>\n",
              "      <td>Swarnika</td>\n",
              "      <td>8</td>\n",
              "    </tr>\n",
              "    <tr>\n",
              "      <th>3</th>\n",
              "      <td>4</td>\n",
              "      <td>9</td>\n",
              "    </tr>\n",
              "    <tr>\n",
              "      <th>4</th>\n",
              "      <td>5</td>\n",
              "      <td>0</td>\n",
              "    </tr>\n",
              "  </tbody>\n",
              "</table>\n",
              "</div>"
            ],
            "text/plain": [
              "          n  n2\n",
              "0         1   6\n",
              "1         2   7\n",
              "2  Swarnika   8\n",
              "3         4   9\n",
              "4         5   0"
            ]
          },
          "metadata": {
            "tags": []
          },
          "execution_count": 40
        }
      ]
    },
    {
      "cell_type": "code",
      "metadata": {
        "id": "bozcPAqaszU2"
      },
      "source": [
        "#14\r\n",
        "students = [ ('jack', 34, 'Sydeny' , 'Australia') ,\r\n",
        "             ('Riti', 30, 'Delhi' , 'India' ) ,\r\n",
        "             ('Vikas', 31, 'Mumbai' , 'India' ) ,\r\n",
        "             ('Neelu', 32, 'Bangalore' , 'India' ) ,\r\n",
        "             ('John', 16, 'New York' , 'US') ,\r\n",
        "             ('Mike', 17, 'las vegas' , 'US')  ]\r\n",
        "#Create a DataFrame object\r\n",
        "dfObj = pd.DataFrame(students, columns = ['Name' , 'Age', 'City' , 'Country'], index=['a', 'b', 'c' , 'd' , 'e' , 'f'])"
      ],
      "execution_count": 33,
      "outputs": []
    },
    {
      "cell_type": "code",
      "metadata": {
        "colab": {
          "base_uri": "https://localhost:8080/",
          "height": 235
        },
        "id": "XV6-9G0PtqNa",
        "outputId": "68610bc1-7d93-4351-cc06-508ed9c787e5"
      },
      "source": [
        "dfObj"
      ],
      "execution_count": 34,
      "outputs": [
        {
          "output_type": "execute_result",
          "data": {
            "text/html": [
              "<div>\n",
              "<style scoped>\n",
              "    .dataframe tbody tr th:only-of-type {\n",
              "        vertical-align: middle;\n",
              "    }\n",
              "\n",
              "    .dataframe tbody tr th {\n",
              "        vertical-align: top;\n",
              "    }\n",
              "\n",
              "    .dataframe thead th {\n",
              "        text-align: right;\n",
              "    }\n",
              "</style>\n",
              "<table border=\"1\" class=\"dataframe\">\n",
              "  <thead>\n",
              "    <tr style=\"text-align: right;\">\n",
              "      <th></th>\n",
              "      <th>Name</th>\n",
              "      <th>Age</th>\n",
              "      <th>City</th>\n",
              "      <th>Country</th>\n",
              "    </tr>\n",
              "  </thead>\n",
              "  <tbody>\n",
              "    <tr>\n",
              "      <th>a</th>\n",
              "      <td>jack</td>\n",
              "      <td>34</td>\n",
              "      <td>Sydeny</td>\n",
              "      <td>Australia</td>\n",
              "    </tr>\n",
              "    <tr>\n",
              "      <th>b</th>\n",
              "      <td>Riti</td>\n",
              "      <td>30</td>\n",
              "      <td>Delhi</td>\n",
              "      <td>India</td>\n",
              "    </tr>\n",
              "    <tr>\n",
              "      <th>c</th>\n",
              "      <td>Vikas</td>\n",
              "      <td>31</td>\n",
              "      <td>Mumbai</td>\n",
              "      <td>India</td>\n",
              "    </tr>\n",
              "    <tr>\n",
              "      <th>d</th>\n",
              "      <td>Neelu</td>\n",
              "      <td>32</td>\n",
              "      <td>Bangalore</td>\n",
              "      <td>India</td>\n",
              "    </tr>\n",
              "    <tr>\n",
              "      <th>e</th>\n",
              "      <td>John</td>\n",
              "      <td>16</td>\n",
              "      <td>New York</td>\n",
              "      <td>US</td>\n",
              "    </tr>\n",
              "    <tr>\n",
              "      <th>f</th>\n",
              "      <td>Mike</td>\n",
              "      <td>17</td>\n",
              "      <td>las vegas</td>\n",
              "      <td>US</td>\n",
              "    </tr>\n",
              "  </tbody>\n",
              "</table>\n",
              "</div>"
            ],
            "text/plain": [
              "    Name  Age       City    Country\n",
              "a   jack   34     Sydeny  Australia\n",
              "b   Riti   30      Delhi      India\n",
              "c  Vikas   31     Mumbai      India\n",
              "d  Neelu   32  Bangalore      India\n",
              "e   John   16   New York         US\n",
              "f   Mike   17  las vegas         US"
            ]
          },
          "metadata": {
            "tags": []
          },
          "execution_count": 34
        }
      ]
    },
    {
      "cell_type": "code",
      "metadata": {
        "id": "D4gShzkHthDD"
      },
      "source": [
        "# Get names of indexes for which column Age has value 30\r\n",
        "indexNames = dfObj[ dfObj['Age'] == 30 ].index\r\n",
        "# Delete these row indexes from dataFrame\r\n",
        "dfObj.drop(indexNames , inplace=True)"
      ],
      "execution_count": 35,
      "outputs": []
    },
    {
      "cell_type": "code",
      "metadata": {
        "colab": {
          "base_uri": "https://localhost:8080/",
          "height": 204
        },
        "id": "YOTmipsLtsEi",
        "outputId": "fe4f2617-68cc-4169-b100-247b7f1678d2"
      },
      "source": [
        "dfObj"
      ],
      "execution_count": 36,
      "outputs": [
        {
          "output_type": "execute_result",
          "data": {
            "text/html": [
              "<div>\n",
              "<style scoped>\n",
              "    .dataframe tbody tr th:only-of-type {\n",
              "        vertical-align: middle;\n",
              "    }\n",
              "\n",
              "    .dataframe tbody tr th {\n",
              "        vertical-align: top;\n",
              "    }\n",
              "\n",
              "    .dataframe thead th {\n",
              "        text-align: right;\n",
              "    }\n",
              "</style>\n",
              "<table border=\"1\" class=\"dataframe\">\n",
              "  <thead>\n",
              "    <tr style=\"text-align: right;\">\n",
              "      <th></th>\n",
              "      <th>Name</th>\n",
              "      <th>Age</th>\n",
              "      <th>City</th>\n",
              "      <th>Country</th>\n",
              "    </tr>\n",
              "  </thead>\n",
              "  <tbody>\n",
              "    <tr>\n",
              "      <th>a</th>\n",
              "      <td>jack</td>\n",
              "      <td>34</td>\n",
              "      <td>Sydeny</td>\n",
              "      <td>Australia</td>\n",
              "    </tr>\n",
              "    <tr>\n",
              "      <th>c</th>\n",
              "      <td>Vikas</td>\n",
              "      <td>31</td>\n",
              "      <td>Mumbai</td>\n",
              "      <td>India</td>\n",
              "    </tr>\n",
              "    <tr>\n",
              "      <th>d</th>\n",
              "      <td>Neelu</td>\n",
              "      <td>32</td>\n",
              "      <td>Bangalore</td>\n",
              "      <td>India</td>\n",
              "    </tr>\n",
              "    <tr>\n",
              "      <th>e</th>\n",
              "      <td>John</td>\n",
              "      <td>16</td>\n",
              "      <td>New York</td>\n",
              "      <td>US</td>\n",
              "    </tr>\n",
              "    <tr>\n",
              "      <th>f</th>\n",
              "      <td>Mike</td>\n",
              "      <td>17</td>\n",
              "      <td>las vegas</td>\n",
              "      <td>US</td>\n",
              "    </tr>\n",
              "  </tbody>\n",
              "</table>\n",
              "</div>"
            ],
            "text/plain": [
              "    Name  Age       City    Country\n",
              "a   jack   34     Sydeny  Australia\n",
              "c  Vikas   31     Mumbai      India\n",
              "d  Neelu   32  Bangalore      India\n",
              "e   John   16   New York         US\n",
              "f   Mike   17  las vegas         US"
            ]
          },
          "metadata": {
            "tags": []
          },
          "execution_count": 36
        }
      ]
    },
    {
      "cell_type": "code",
      "metadata": {
        "colab": {
          "base_uri": "https://localhost:8080/",
          "height": 419
        },
        "id": "RFq-arPNqU0H",
        "outputId": "32027f50-586f-48cd-ea6d-4cb96d44d995"
      },
      "source": [
        "#15\r\n",
        "df.sort_values(by='Time since posted')"
      ],
      "execution_count": 20,
      "outputs": [
        {
          "output_type": "execute_result",
          "data": {
            "text/html": [
              "<div>\n",
              "<style scoped>\n",
              "    .dataframe tbody tr th:only-of-type {\n",
              "        vertical-align: middle;\n",
              "    }\n",
              "\n",
              "    .dataframe tbody tr th {\n",
              "        vertical-align: top;\n",
              "    }\n",
              "\n",
              "    .dataframe thead th {\n",
              "        text-align: right;\n",
              "    }\n",
              "</style>\n",
              "<table border=\"1\" class=\"dataframe\">\n",
              "  <thead>\n",
              "    <tr style=\"text-align: right;\">\n",
              "      <th></th>\n",
              "      <th>Unnamed: 0</th>\n",
              "      <th>Unnamed: 0.1</th>\n",
              "      <th>S.No</th>\n",
              "      <th>USERNAME</th>\n",
              "      <th>Caption</th>\n",
              "      <th>Followers</th>\n",
              "      <th>Hashtags</th>\n",
              "      <th>Time since posted</th>\n",
              "      <th>Likes</th>\n",
              "    </tr>\n",
              "  </thead>\n",
              "  <tbody>\n",
              "    <tr>\n",
              "      <th>0</th>\n",
              "      <td>0</td>\n",
              "      <td>0</td>\n",
              "      <td>1</td>\n",
              "      <td>mikequindazzi</td>\n",
              "      <td>Who are #DataScientist and what do they do? &gt;&gt;...</td>\n",
              "      <td>1600</td>\n",
              "      <td>#MachineLearning #AI #DataAnalytics #DataScien...</td>\n",
              "      <td>11 hours</td>\n",
              "      <td>139</td>\n",
              "    </tr>\n",
              "    <tr>\n",
              "      <th>13</th>\n",
              "      <td>13</td>\n",
              "      <td>13</td>\n",
              "      <td>15</td>\n",
              "      <td>artificialintelligence.a.i</td>\n",
              "      <td>Tag him who promised to help you but he doesn'...</td>\n",
              "      <td>533</td>\n",
              "      <td>#artificialintelligence #ai#machinelearning#de...</td>\n",
              "      <td>11 hours</td>\n",
              "      <td>94</td>\n",
              "    </tr>\n",
              "    <tr>\n",
              "      <th>39</th>\n",
              "      <td>39</td>\n",
              "      <td>0</td>\n",
              "      <td>5</td>\n",
              "      <td>mikequindazzi</td>\n",
              "      <td>1 in 3 #Smartphones will ship w/ #MachineLearn...</td>\n",
              "      <td>1600</td>\n",
              "      <td>#MachineLearning #artificialintelligence#AI #IoT</td>\n",
              "      <td>14 hours</td>\n",
              "      <td>136</td>\n",
              "    </tr>\n",
              "    <tr>\n",
              "      <th>77</th>\n",
              "      <td>77</td>\n",
              "      <td>4</td>\n",
              "      <td>9</td>\n",
              "      <td>lpsahil</td>\n",
              "      <td>Dude...That's Huge! A Super Massive Lathe!</td>\n",
              "      <td>631</td>\n",
              "      <td>#exklusive_shot #trb_autozone#carsofinstagram ...</td>\n",
              "      <td>2 hours</td>\n",
              "      <td>55</td>\n",
              "    </tr>\n",
              "    <tr>\n",
              "      <th>78</th>\n",
              "      <td>78</td>\n",
              "      <td>5</td>\n",
              "      <td>10</td>\n",
              "      <td>vaultcolombia</td>\n",
              "      <td>Nike Air 270. Pocas unidades disponibles. Info...</td>\n",
              "      <td>246</td>\n",
              "      <td>#gear #mensfashion #womenfashion #lids#product...</td>\n",
              "      <td>2 hours</td>\n",
              "      <td>12</td>\n",
              "    </tr>\n",
              "    <tr>\n",
              "      <th>...</th>\n",
              "      <td>...</td>\n",
              "      <td>...</td>\n",
              "      <td>...</td>\n",
              "      <td>...</td>\n",
              "      <td>...</td>\n",
              "      <td>...</td>\n",
              "      <td>...</td>\n",
              "      <td>...</td>\n",
              "      <td>...</td>\n",
              "    </tr>\n",
              "    <tr>\n",
              "      <th>10</th>\n",
              "      <td>10</td>\n",
              "      <td>10</td>\n",
              "      <td>11</td>\n",
              "      <td>databowl</td>\n",
              "      <td>Today we are featured in The Future CMO Magazi...</td>\n",
              "      <td>149</td>\n",
              "      <td>#artificialintelligence #futurism#machinelearn...</td>\n",
              "      <td>7 hours</td>\n",
              "      <td>31</td>\n",
              "    </tr>\n",
              "    <tr>\n",
              "      <th>9</th>\n",
              "      <td>9</td>\n",
              "      <td>9</td>\n",
              "      <td>10</td>\n",
              "      <td>diworksolucionesdeti</td>\n",
              "      <td>The Internet of Things : A Very Short Story [#...</td>\n",
              "      <td>450</td>\n",
              "      <td>[#Infographic] #Wearable #Sensors #MachineLear...</td>\n",
              "      <td>7 hours</td>\n",
              "      <td>18</td>\n",
              "    </tr>\n",
              "    <tr>\n",
              "      <th>54</th>\n",
              "      <td>54</td>\n",
              "      <td>15</td>\n",
              "      <td>23</td>\n",
              "      <td>iamalexleyva</td>\n",
              "      <td>Artistes &amp; Robots 🤖⚡️</td>\n",
              "      <td>2785</td>\n",
              "      <td>#digitalart #artedigital #paris #technology#da...</td>\n",
              "      <td>7 hours</td>\n",
              "      <td>65</td>\n",
              "    </tr>\n",
              "    <tr>\n",
              "      <th>11</th>\n",
              "      <td>11</td>\n",
              "      <td>11</td>\n",
              "      <td>13</td>\n",
              "      <td>edwisor_india</td>\n",
              "      <td>The IT industry is rapidly booming. Is your ca...</td>\n",
              "      <td>2232</td>\n",
              "      <td>#WedenesdayWisdom #IndustryInsights#GetSkilled...</td>\n",
              "      <td>8 hours</td>\n",
              "      <td>48</td>\n",
              "    </tr>\n",
              "    <tr>\n",
              "      <th>12</th>\n",
              "      <td>12</td>\n",
              "      <td>12</td>\n",
              "      <td>14</td>\n",
              "      <td>ubiqum</td>\n",
              "      <td>Just an average day for a programmer 😖 #workth...</td>\n",
              "      <td>1061</td>\n",
              "      <td>#webdevelopment #coding #programming#codinglif...</td>\n",
              "      <td>9 hours</td>\n",
              "      <td>80</td>\n",
              "    </tr>\n",
              "  </tbody>\n",
              "</table>\n",
              "<p>100 rows × 9 columns</p>\n",
              "</div>"
            ],
            "text/plain": [
              "    Unnamed: 0  Unnamed: 0.1  ...  Time since posted Likes\n",
              "0            0             0  ...           11 hours   139\n",
              "13          13            13  ...           11 hours    94\n",
              "39          39             0  ...           14 hours   136\n",
              "77          77             4  ...            2 hours    55\n",
              "78          78             5  ...            2 hours    12\n",
              "..         ...           ...  ...                ...   ...\n",
              "10          10            10  ...            7 hours    31\n",
              "9            9             9  ...            7 hours    18\n",
              "54          54            15  ...            7 hours    65\n",
              "11          11            11  ...            8 hours    48\n",
              "12          12            12  ...            9 hours    80\n",
              "\n",
              "[100 rows x 9 columns]"
            ]
          },
          "metadata": {
            "tags": []
          },
          "execution_count": 20
        }
      ]
    },
    {
      "cell_type": "code",
      "metadata": {
        "id": "UXoGVS_cqwrd"
      },
      "source": [
        "#16\r\n",
        "d = {\"n\":[1,2,3,4,5], \"n2\":[6,7,8,9,0]}\r\n",
        "df = pd.DataFrame(d)"
      ],
      "execution_count": 21,
      "outputs": []
    },
    {
      "cell_type": "code",
      "metadata": {
        "colab": {
          "base_uri": "https://localhost:8080/",
          "height": 204
        },
        "id": "xiBGSYhyrE8M",
        "outputId": "0f6ec689-f18e-45c0-f9f1-a351b4dd9478"
      },
      "source": [
        "df"
      ],
      "execution_count": 22,
      "outputs": [
        {
          "output_type": "execute_result",
          "data": {
            "text/html": [
              "<div>\n",
              "<style scoped>\n",
              "    .dataframe tbody tr th:only-of-type {\n",
              "        vertical-align: middle;\n",
              "    }\n",
              "\n",
              "    .dataframe tbody tr th {\n",
              "        vertical-align: top;\n",
              "    }\n",
              "\n",
              "    .dataframe thead th {\n",
              "        text-align: right;\n",
              "    }\n",
              "</style>\n",
              "<table border=\"1\" class=\"dataframe\">\n",
              "  <thead>\n",
              "    <tr style=\"text-align: right;\">\n",
              "      <th></th>\n",
              "      <th>n</th>\n",
              "      <th>n2</th>\n",
              "    </tr>\n",
              "  </thead>\n",
              "  <tbody>\n",
              "    <tr>\n",
              "      <th>0</th>\n",
              "      <td>1</td>\n",
              "      <td>6</td>\n",
              "    </tr>\n",
              "    <tr>\n",
              "      <th>1</th>\n",
              "      <td>2</td>\n",
              "      <td>7</td>\n",
              "    </tr>\n",
              "    <tr>\n",
              "      <th>2</th>\n",
              "      <td>3</td>\n",
              "      <td>8</td>\n",
              "    </tr>\n",
              "    <tr>\n",
              "      <th>3</th>\n",
              "      <td>4</td>\n",
              "      <td>9</td>\n",
              "    </tr>\n",
              "    <tr>\n",
              "      <th>4</th>\n",
              "      <td>5</td>\n",
              "      <td>0</td>\n",
              "    </tr>\n",
              "  </tbody>\n",
              "</table>\n",
              "</div>"
            ],
            "text/plain": [
              "   n  n2\n",
              "0  1   6\n",
              "1  2   7\n",
              "2  3   8\n",
              "3  4   9\n",
              "4  5   0"
            ]
          },
          "metadata": {
            "tags": []
          },
          "execution_count": 22
        }
      ]
    },
    {
      "cell_type": "code",
      "metadata": {
        "colab": {
          "base_uri": "https://localhost:8080/",
          "height": 142
        },
        "id": "xYyI1lAtrJbE",
        "outputId": "492d0938-9c38-46a8-f520-6e04db95cae8"
      },
      "source": [
        "df.nsmallest(3,\"n2\")"
      ],
      "execution_count": 23,
      "outputs": [
        {
          "output_type": "execute_result",
          "data": {
            "text/html": [
              "<div>\n",
              "<style scoped>\n",
              "    .dataframe tbody tr th:only-of-type {\n",
              "        vertical-align: middle;\n",
              "    }\n",
              "\n",
              "    .dataframe tbody tr th {\n",
              "        vertical-align: top;\n",
              "    }\n",
              "\n",
              "    .dataframe thead th {\n",
              "        text-align: right;\n",
              "    }\n",
              "</style>\n",
              "<table border=\"1\" class=\"dataframe\">\n",
              "  <thead>\n",
              "    <tr style=\"text-align: right;\">\n",
              "      <th></th>\n",
              "      <th>n</th>\n",
              "      <th>n2</th>\n",
              "    </tr>\n",
              "  </thead>\n",
              "  <tbody>\n",
              "    <tr>\n",
              "      <th>4</th>\n",
              "      <td>5</td>\n",
              "      <td>0</td>\n",
              "    </tr>\n",
              "    <tr>\n",
              "      <th>0</th>\n",
              "      <td>1</td>\n",
              "      <td>6</td>\n",
              "    </tr>\n",
              "    <tr>\n",
              "      <th>1</th>\n",
              "      <td>2</td>\n",
              "      <td>7</td>\n",
              "    </tr>\n",
              "  </tbody>\n",
              "</table>\n",
              "</div>"
            ],
            "text/plain": [
              "   n  n2\n",
              "4  5   0\n",
              "0  1   6\n",
              "1  2   7"
            ]
          },
          "metadata": {
            "tags": []
          },
          "execution_count": 23
        }
      ]
    },
    {
      "cell_type": "code",
      "metadata": {
        "colab": {
          "base_uri": "https://localhost:8080/",
          "height": 173
        },
        "id": "SmuilI3OrQID",
        "outputId": "0a03a59f-ee0c-4693-a8a6-cc686e137cce"
      },
      "source": [
        "df.nlargest(4,\"n\")"
      ],
      "execution_count": 26,
      "outputs": [
        {
          "output_type": "execute_result",
          "data": {
            "text/html": [
              "<div>\n",
              "<style scoped>\n",
              "    .dataframe tbody tr th:only-of-type {\n",
              "        vertical-align: middle;\n",
              "    }\n",
              "\n",
              "    .dataframe tbody tr th {\n",
              "        vertical-align: top;\n",
              "    }\n",
              "\n",
              "    .dataframe thead th {\n",
              "        text-align: right;\n",
              "    }\n",
              "</style>\n",
              "<table border=\"1\" class=\"dataframe\">\n",
              "  <thead>\n",
              "    <tr style=\"text-align: right;\">\n",
              "      <th></th>\n",
              "      <th>n</th>\n",
              "      <th>n2</th>\n",
              "    </tr>\n",
              "  </thead>\n",
              "  <tbody>\n",
              "    <tr>\n",
              "      <th>4</th>\n",
              "      <td>5</td>\n",
              "      <td>0</td>\n",
              "    </tr>\n",
              "    <tr>\n",
              "      <th>3</th>\n",
              "      <td>4</td>\n",
              "      <td>9</td>\n",
              "    </tr>\n",
              "    <tr>\n",
              "      <th>2</th>\n",
              "      <td>3</td>\n",
              "      <td>8</td>\n",
              "    </tr>\n",
              "    <tr>\n",
              "      <th>1</th>\n",
              "      <td>2</td>\n",
              "      <td>7</td>\n",
              "    </tr>\n",
              "  </tbody>\n",
              "</table>\n",
              "</div>"
            ],
            "text/plain": [
              "   n  n2\n",
              "4  5   0\n",
              "3  4   9\n",
              "2  3   8\n",
              "1  2   7"
            ]
          },
          "metadata": {
            "tags": []
          },
          "execution_count": 26
        }
      ]
    },
    {
      "cell_type": "code",
      "metadata": {
        "id": "laxc9PJoTW6a",
        "colab": {
          "base_uri": "https://localhost:8080/",
          "height": 297
        },
        "outputId": "c5e6d9b7-baf4-40f1-f0bc-7a6cf93e377e"
      },
      "source": [
        "#17 a)\r\n",
        "df.describe()"
      ],
      "execution_count": 17,
      "outputs": [
        {
          "output_type": "execute_result",
          "data": {
            "text/html": [
              "<div>\n",
              "<style scoped>\n",
              "    .dataframe tbody tr th:only-of-type {\n",
              "        vertical-align: middle;\n",
              "    }\n",
              "\n",
              "    .dataframe tbody tr th {\n",
              "        vertical-align: top;\n",
              "    }\n",
              "\n",
              "    .dataframe thead th {\n",
              "        text-align: right;\n",
              "    }\n",
              "</style>\n",
              "<table border=\"1\" class=\"dataframe\">\n",
              "  <thead>\n",
              "    <tr style=\"text-align: right;\">\n",
              "      <th></th>\n",
              "      <th>Unnamed: 0</th>\n",
              "      <th>Unnamed: 0.1</th>\n",
              "      <th>S.No</th>\n",
              "      <th>Followers</th>\n",
              "      <th>Likes</th>\n",
              "    </tr>\n",
              "  </thead>\n",
              "  <tbody>\n",
              "    <tr>\n",
              "      <th>count</th>\n",
              "      <td>100.000000</td>\n",
              "      <td>100.000000</td>\n",
              "      <td>100.000000</td>\n",
              "      <td>100.00000</td>\n",
              "      <td>100.00000</td>\n",
              "    </tr>\n",
              "    <tr>\n",
              "      <th>mean</th>\n",
              "      <td>49.500000</td>\n",
              "      <td>8.940000</td>\n",
              "      <td>16.240000</td>\n",
              "      <td>961.96000</td>\n",
              "      <td>46.48000</td>\n",
              "    </tr>\n",
              "    <tr>\n",
              "      <th>std</th>\n",
              "      <td>29.011492</td>\n",
              "      <td>6.639064</td>\n",
              "      <td>7.384286</td>\n",
              "      <td>1014.62567</td>\n",
              "      <td>55.08698</td>\n",
              "    </tr>\n",
              "    <tr>\n",
              "      <th>min</th>\n",
              "      <td>0.000000</td>\n",
              "      <td>0.000000</td>\n",
              "      <td>1.000000</td>\n",
              "      <td>11.00000</td>\n",
              "      <td>8.00000</td>\n",
              "    </tr>\n",
              "    <tr>\n",
              "      <th>25%</th>\n",
              "      <td>24.750000</td>\n",
              "      <td>4.000000</td>\n",
              "      <td>10.750000</td>\n",
              "      <td>252.75000</td>\n",
              "      <td>19.00000</td>\n",
              "    </tr>\n",
              "    <tr>\n",
              "      <th>50%</th>\n",
              "      <td>49.500000</td>\n",
              "      <td>8.000000</td>\n",
              "      <td>16.500000</td>\n",
              "      <td>612.00000</td>\n",
              "      <td>29.00000</td>\n",
              "    </tr>\n",
              "    <tr>\n",
              "      <th>75%</th>\n",
              "      <td>74.250000</td>\n",
              "      <td>12.250000</td>\n",
              "      <td>22.250000</td>\n",
              "      <td>1197.00000</td>\n",
              "      <td>46.00000</td>\n",
              "    </tr>\n",
              "    <tr>\n",
              "      <th>max</th>\n",
              "      <td>99.000000</td>\n",
              "      <td>26.000000</td>\n",
              "      <td>30.000000</td>\n",
              "      <td>4496.00000</td>\n",
              "      <td>349.00000</td>\n",
              "    </tr>\n",
              "  </tbody>\n",
              "</table>\n",
              "</div>"
            ],
            "text/plain": [
              "       Unnamed: 0  Unnamed: 0.1        S.No   Followers      Likes\n",
              "count  100.000000    100.000000  100.000000   100.00000  100.00000\n",
              "mean    49.500000      8.940000   16.240000   961.96000   46.48000\n",
              "std     29.011492      6.639064    7.384286  1014.62567   55.08698\n",
              "min      0.000000      0.000000    1.000000    11.00000    8.00000\n",
              "25%     24.750000      4.000000   10.750000   252.75000   19.00000\n",
              "50%     49.500000      8.000000   16.500000   612.00000   29.00000\n",
              "75%     74.250000     12.250000   22.250000  1197.00000   46.00000\n",
              "max     99.000000     26.000000   30.000000  4496.00000  349.00000"
            ]
          },
          "metadata": {
            "tags": []
          },
          "execution_count": 17
        }
      ]
    },
    {
      "cell_type": "code",
      "metadata": {
        "colab": {
          "base_uri": "https://localhost:8080/"
        },
        "id": "pK839r8eouTb",
        "outputId": "9e6b6f78-e309-40e4-b816-0368d8a5ecf3"
      },
      "source": [
        "#17 b)\r\n",
        "df['Time since posted'].count()"
      ],
      "execution_count": 18,
      "outputs": [
        {
          "output_type": "execute_result",
          "data": {
            "text/plain": [
              "100"
            ]
          },
          "metadata": {
            "tags": []
          },
          "execution_count": 18
        }
      ]
    },
    {
      "cell_type": "code",
      "metadata": {
        "colab": {
          "base_uri": "https://localhost:8080/"
        },
        "id": "f7BZ0crgqINq",
        "outputId": "b371373c-9f2c-4079-fa9e-a152f5efeb5c"
      },
      "source": [
        "#17 c)\r\n",
        "df['Time since posted'].value_counts()"
      ],
      "execution_count": 19,
      "outputs": [
        {
          "output_type": "execute_result",
          "data": {
            "text/plain": [
              "2 hours     57\n",
              "3 hours     19\n",
              "4 hours     13\n",
              "7 hours      3\n",
              "11 hours     2\n",
              "8 hours      1\n",
              "9 hours      1\n",
              "24 hours     1\n",
              "14 hours     1\n",
              "5 hours      1\n",
              "20 hours     1\n",
              "Name: Time since posted, dtype: int64"
            ]
          },
          "metadata": {
            "tags": []
          },
          "execution_count": 19
        }
      ]
    },
    {
      "cell_type": "code",
      "metadata": {
        "id": "FHnR7SdQqPRl"
      },
      "source": [
        ""
      ],
      "execution_count": null,
      "outputs": []
    }
  ]
}